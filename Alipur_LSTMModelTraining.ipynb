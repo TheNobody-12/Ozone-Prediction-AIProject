{
 "cells": [
  {
   "cell_type": "code",
   "execution_count": 9,
   "metadata": {},
   "outputs": [],
   "source": [
    "from __future__ import absolute_import,division,print_function,unicode_literals\n",
    "#importing the necessary libraries and dependencies\n",
    "import pandas as pd\n",
    "import numpy as np\n",
    "import seaborn as sns;\n",
    "from sklearn import preprocessing\n",
    "from sklearn.metrics import accuracy_score\n",
    "from sklearn.preprocessing import StandardScaler\n",
    "import matplotlib.pyplot as plt\n",
    "import tensorflow as tf\n",
    "from tensorflow import keras\n",
    "from numpy import array\n",
    "from keras.models import Sequential\n",
    "from keras.layers import LSTM\n",
    "from keras.layers import Dense\n",
    "from keras import optimizers\n",
    "from datetime import datetime\n",
    "import pandas as pd\n",
    "from sklearn.preprocessing import MinMaxScaler\n",
    "from sklearn.metrics import mean_squared_error"
   ]
  },
  {
   "cell_type": "code",
   "execution_count": 10,
   "metadata": {},
   "outputs": [
    {
     "name": "stdout",
     "output_type": "stream",
     "text": [
      "<class 'pandas.core.frame.DataFrame'>\n",
      "RangeIndex: 1599 entries, 0 to 1598\n",
      "Data columns (total 20 columns):\n",
      " #   Column     Non-Null Count  Dtype         \n",
      "---  ------     --------------  -----         \n",
      " 0   From Date  1599 non-null   datetime64[ns]\n",
      " 1   To Date    1599 non-null   datetime64[ns]\n",
      " 2   PM2.5      1579 non-null   float64       \n",
      " 3   PM10       1583 non-null   float64       \n",
      " 4   NO         1582 non-null   float64       \n",
      " 5   NO2        1582 non-null   float64       \n",
      " 6   Nox        1582 non-null   float64       \n",
      " 7   NH3        1567 non-null   float64       \n",
      " 8   SO2        1566 non-null   float64       \n",
      " 9   CO         1580 non-null   float64       \n",
      " 10  Ozone      1538 non-null   float64       \n",
      " 11  Benzene    1484 non-null   float64       \n",
      " 12  Toluene    1484 non-null   float64       \n",
      " 13  RH         1583 non-null   float64       \n",
      " 14  WD         1583 non-null   float64       \n",
      " 15  SR         1583 non-null   float64       \n",
      " 16  BP         1582 non-null   float64       \n",
      " 17  AT         1582 non-null   float64       \n",
      " 18  Xylene     1482 non-null   float64       \n",
      " 19  TOT-RF     1599 non-null   float64       \n",
      "dtypes: datetime64[ns](2), float64(18)\n",
      "memory usage: 250.0 KB\n"
     ]
    }
   ],
   "source": [
    "data = pd.read_csv('Location\\Alipur\\cleaned_data.csv')\n",
    "# Convert the date column to datetime\n",
    "data['From Date'] = data['From Date'].apply(lambda x: datetime.strptime(x, '%Y-%m-%d'))\n",
    "data['To Date'] = data['To Date'].apply(lambda x: datetime.strptime(x, '%Y-%m-%d %H:%M:%S'))\n",
    "data['From Date'].min(), data['From Date'].max()\n",
    "data.info()"
   ]
  },
  {
   "cell_type": "code",
   "execution_count": 11,
   "metadata": {},
   "outputs": [
    {
     "data": {
      "text/html": [
       "<div>\n",
       "<style scoped>\n",
       "    .dataframe tbody tr th:only-of-type {\n",
       "        vertical-align: middle;\n",
       "    }\n",
       "\n",
       "    .dataframe tbody tr th {\n",
       "        vertical-align: top;\n",
       "    }\n",
       "\n",
       "    .dataframe thead th {\n",
       "        text-align: right;\n",
       "    }\n",
       "</style>\n",
       "<table border=\"1\" class=\"dataframe\">\n",
       "  <thead>\n",
       "    <tr style=\"text-align: right;\">\n",
       "      <th></th>\n",
       "      <th>PM2.5</th>\n",
       "      <th>PM10</th>\n",
       "      <th>NO</th>\n",
       "      <th>NO2</th>\n",
       "      <th>Nox</th>\n",
       "      <th>NH3</th>\n",
       "      <th>SO2</th>\n",
       "      <th>CO</th>\n",
       "      <th>Ozone</th>\n",
       "      <th>Benzene</th>\n",
       "      <th>Toluene</th>\n",
       "      <th>RH</th>\n",
       "      <th>WD</th>\n",
       "      <th>SR</th>\n",
       "      <th>BP</th>\n",
       "      <th>AT</th>\n",
       "      <th>Xylene</th>\n",
       "      <th>TOT-RF</th>\n",
       "    </tr>\n",
       "    <tr>\n",
       "      <th>To Date</th>\n",
       "      <th></th>\n",
       "      <th></th>\n",
       "      <th></th>\n",
       "      <th></th>\n",
       "      <th></th>\n",
       "      <th></th>\n",
       "      <th></th>\n",
       "      <th></th>\n",
       "      <th></th>\n",
       "      <th></th>\n",
       "      <th></th>\n",
       "      <th></th>\n",
       "      <th></th>\n",
       "      <th></th>\n",
       "      <th></th>\n",
       "      <th></th>\n",
       "      <th></th>\n",
       "      <th></th>\n",
       "    </tr>\n",
       "  </thead>\n",
       "  <tbody>\n",
       "    <tr>\n",
       "      <th>2018-11-12</th>\n",
       "      <td>251.16</td>\n",
       "      <td>439.83</td>\n",
       "      <td>1.75</td>\n",
       "      <td>83.25</td>\n",
       "      <td>45.69</td>\n",
       "      <td>39.29</td>\n",
       "      <td>23.07</td>\n",
       "      <td>1.57</td>\n",
       "      <td>39.13</td>\n",
       "      <td>6.70</td>\n",
       "      <td>17.96</td>\n",
       "      <td>76.73</td>\n",
       "      <td>240.05</td>\n",
       "      <td>29.55</td>\n",
       "      <td>992.08</td>\n",
       "      <td>19.86</td>\n",
       "      <td>0.31</td>\n",
       "      <td>0.0</td>\n",
       "    </tr>\n",
       "    <tr>\n",
       "      <th>2018-11-13</th>\n",
       "      <td>235.81</td>\n",
       "      <td>340.70</td>\n",
       "      <td>4.97</td>\n",
       "      <td>80.06</td>\n",
       "      <td>46.58</td>\n",
       "      <td>35.29</td>\n",
       "      <td>13.32</td>\n",
       "      <td>1.54</td>\n",
       "      <td>44.63</td>\n",
       "      <td>6.57</td>\n",
       "      <td>13.94</td>\n",
       "      <td>77.34</td>\n",
       "      <td>244.45</td>\n",
       "      <td>107.99</td>\n",
       "      <td>990.39</td>\n",
       "      <td>19.82</td>\n",
       "      <td>0.31</td>\n",
       "      <td>0.0</td>\n",
       "    </tr>\n",
       "    <tr>\n",
       "      <th>2018-11-14</th>\n",
       "      <td>285.09</td>\n",
       "      <td>428.91</td>\n",
       "      <td>16.67</td>\n",
       "      <td>111.32</td>\n",
       "      <td>72.80</td>\n",
       "      <td>41.51</td>\n",
       "      <td>21.87</td>\n",
       "      <td>1.34</td>\n",
       "      <td>31.22</td>\n",
       "      <td>8.68</td>\n",
       "      <td>43.54</td>\n",
       "      <td>78.66</td>\n",
       "      <td>219.97</td>\n",
       "      <td>77.29</td>\n",
       "      <td>988.21</td>\n",
       "      <td>20.48</td>\n",
       "      <td>0.91</td>\n",
       "      <td>0.0</td>\n",
       "    </tr>\n",
       "    <tr>\n",
       "      <th>2018-11-15</th>\n",
       "      <td>144.36</td>\n",
       "      <td>205.45</td>\n",
       "      <td>6.34</td>\n",
       "      <td>96.49</td>\n",
       "      <td>56.09</td>\n",
       "      <td>35.79</td>\n",
       "      <td>12.56</td>\n",
       "      <td>1.00</td>\n",
       "      <td>41.93</td>\n",
       "      <td>5.64</td>\n",
       "      <td>28.66</td>\n",
       "      <td>77.86</td>\n",
       "      <td>214.38</td>\n",
       "      <td>105.27</td>\n",
       "      <td>989.02</td>\n",
       "      <td>21.22</td>\n",
       "      <td>0.54</td>\n",
       "      <td>1.0</td>\n",
       "    </tr>\n",
       "    <tr>\n",
       "      <th>2018-11-16</th>\n",
       "      <td>109.24</td>\n",
       "      <td>154.94</td>\n",
       "      <td>6.91</td>\n",
       "      <td>77.06</td>\n",
       "      <td>46.79</td>\n",
       "      <td>30.92</td>\n",
       "      <td>12.69</td>\n",
       "      <td>0.65</td>\n",
       "      <td>28.81</td>\n",
       "      <td>4.17</td>\n",
       "      <td>33.59</td>\n",
       "      <td>79.27</td>\n",
       "      <td>185.82</td>\n",
       "      <td>112.20</td>\n",
       "      <td>992.52</td>\n",
       "      <td>19.82</td>\n",
       "      <td>0.57</td>\n",
       "      <td>0.0</td>\n",
       "    </tr>\n",
       "  </tbody>\n",
       "</table>\n",
       "</div>"
      ],
      "text/plain": [
       "             PM2.5    PM10     NO     NO2    Nox    NH3    SO2    CO  Ozone  \\\n",
       "To Date                                                                       \n",
       "2018-11-12  251.16  439.83   1.75   83.25  45.69  39.29  23.07  1.57  39.13   \n",
       "2018-11-13  235.81  340.70   4.97   80.06  46.58  35.29  13.32  1.54  44.63   \n",
       "2018-11-14  285.09  428.91  16.67  111.32  72.80  41.51  21.87  1.34  31.22   \n",
       "2018-11-15  144.36  205.45   6.34   96.49  56.09  35.79  12.56  1.00  41.93   \n",
       "2018-11-16  109.24  154.94   6.91   77.06  46.79  30.92  12.69  0.65  28.81   \n",
       "\n",
       "            Benzene  Toluene     RH      WD      SR      BP     AT  Xylene  \\\n",
       "To Date                                                                      \n",
       "2018-11-12     6.70    17.96  76.73  240.05   29.55  992.08  19.86    0.31   \n",
       "2018-11-13     6.57    13.94  77.34  244.45  107.99  990.39  19.82    0.31   \n",
       "2018-11-14     8.68    43.54  78.66  219.97   77.29  988.21  20.48    0.91   \n",
       "2018-11-15     5.64    28.66  77.86  214.38  105.27  989.02  21.22    0.54   \n",
       "2018-11-16     4.17    33.59  79.27  185.82  112.20  992.52  19.82    0.57   \n",
       "\n",
       "            TOT-RF  \n",
       "To Date             \n",
       "2018-11-12     0.0  \n",
       "2018-11-13     0.0  \n",
       "2018-11-14     0.0  \n",
       "2018-11-15     1.0  \n",
       "2018-11-16     0.0  "
      ]
     },
     "execution_count": 11,
     "metadata": {},
     "output_type": "execute_result"
    }
   ],
   "source": [
    "aq_df = data.set_index('To Date')\n",
    "aq_df.drop(['From Date'], axis=1, inplace=True)\n",
    "aq_df.head()"
   ]
  },
  {
   "cell_type": "code",
   "execution_count": 12,
   "metadata": {},
   "outputs": [
    {
     "name": "stdout",
     "output_type": "stream",
     "text": [
      "(1599, 18)\n",
      "PM2.5       20\n",
      "PM10        16\n",
      "NO          17\n",
      "NO2         17\n",
      "Nox         17\n",
      "NH3         32\n",
      "SO2         33\n",
      "CO          19\n",
      "Ozone       61\n",
      "Benzene    115\n",
      "Toluene    115\n",
      "RH          16\n",
      "WD          16\n",
      "SR          16\n",
      "BP          17\n",
      "AT          17\n",
      "Xylene     117\n",
      "TOT-RF       0\n",
      "dtype: int64\n"
     ]
    }
   ],
   "source": [
    "print(aq_df.shape)\n",
    "print(aq_df.isna().sum())"
   ]
  },
  {
   "cell_type": "code",
   "execution_count": 13,
   "metadata": {},
   "outputs": [
    {
     "name": "stdout",
     "output_type": "stream",
     "text": [
      "(1599, 18)\n",
      "PM2.5       20\n",
      "PM10        16\n",
      "NO          17\n",
      "NO2         17\n",
      "Nox         17\n",
      "NH3         32\n",
      "SO2         33\n",
      "CO          19\n",
      "Ozone       61\n",
      "Benzene    115\n",
      "Toluene    115\n",
      "RH          16\n",
      "WD          16\n",
      "SR          16\n",
      "BP          17\n",
      "AT          17\n",
      "Xylene     117\n",
      "TOT-RF       0\n",
      "dtype: int64\n"
     ]
    }
   ],
   "source": [
    "print(aq_df.shape)\n",
    "print(aq_df.isna().sum())"
   ]
  },
  {
   "cell_type": "code",
   "execution_count": 14,
   "metadata": {},
   "outputs": [],
   "source": [
    "aq_df.drop(['TOT-RF','Xylene','Benzene'], axis=1, inplace=True)"
   ]
  },
  {
   "cell_type": "code",
   "execution_count": 15,
   "metadata": {},
   "outputs": [],
   "source": [
    "# fill missing values with a value at the same time one day ago\n",
    "# aq_df.fillna(method='ffill', inplace=True)\n",
    "# drop the rows with missing values\n",
    "aq_df.dropna(inplace=True)"
   ]
  },
  {
   "cell_type": "code",
   "execution_count": 16,
   "metadata": {},
   "outputs": [
    {
     "name": "stdout",
     "output_type": "stream",
     "text": [
      "To Date\n",
      "2022-01-02 00:00:00    14.24\n",
      "2022-01-03 00:00:00    11.39\n",
      "2022-01-04 00:00:00    17.99\n",
      "2022-01-05 00:00:00    14.20\n",
      "2022-01-06 00:00:00     7.92\n",
      "                       ...  \n",
      "2023-03-25 00:00:00    29.68\n",
      "2023-03-26 00:00:00    54.00\n",
      "2023-03-27 00:00:00    48.79\n",
      "2023-03-28 00:00:00    52.68\n",
      "2023-03-28 11:31:00    26.29\n",
      "Name: Ozone, Length: 425, dtype: float64\n"
     ]
    }
   ],
   "source": [
    "# define the train and test data\n",
    "x_train = aq_df[:'2021-12-31']\n",
    "y_train = x_train['Ozone']\n",
    "x_test = aq_df['2022-01-01':]\n",
    "y_test = x_test['Ozone']\n",
    "print(y_test)"
   ]
  },
  {
   "cell_type": "code",
   "execution_count": 17,
   "metadata": {},
   "outputs": [
    {
     "name": "stdout",
     "output_type": "stream",
     "text": [
      "0.6970776906628653\n",
      "0.3029223093371347\n"
     ]
    }
   ],
   "source": [
    "# calculate length of train and test data\n",
    "train_len = len(x_train)\n",
    "test_len = len(x_test)\n",
    "print(train_len / aq_df.shape[0])\n",
    "print(test_len / aq_df.shape[0]) "
   ]
  },
  {
   "cell_type": "code",
   "execution_count": 18,
   "metadata": {},
   "outputs": [
    {
     "name": "stdout",
     "output_type": "stream",
     "text": [
      "[0.37549525]\n",
      "[0.42997227]\n",
      "[0.29714739]\n",
      "[0.403229]\n",
      "[0.27327655]\n"
     ]
    }
   ],
   "source": [
    "#Normalizing training data\n",
    "train_norm = x_train['Ozone']\n",
    "\n",
    "#converted into array as all the methods available are for arrays and not lists\n",
    "train_norm_arr = np.asarray(train_norm)\n",
    "train_norm = np.reshape(train_norm_arr, (-1, 1))\n",
    "\n",
    "#Scaling all values between 0 and 1 so that large values don't just dominate\n",
    "scaler = MinMaxScaler(feature_range=(0, 1))\n",
    "train_norm = scaler.fit_transform(train_norm)\n",
    "for i in range(5):\n",
    "    print(train_norm[i])"
   ]
  },
  {
   "cell_type": "code",
   "execution_count": 19,
   "metadata": {},
   "outputs": [
    {
     "name": "stdout",
     "output_type": "stream",
     "text": [
      "[0.11522673]\n",
      "[0.08801909]\n",
      "[0.15102625]\n",
      "[0.11484487]\n",
      "[0.0548926]\n",
      "Number of null values in test_norm =  1\n"
     ]
    }
   ],
   "source": [
    "#removing null values \n",
    "train_norm = train_norm[train_norm!=0]\n",
    "\n",
    "#Normalizing testing data and repeating the same process as done for training data\n",
    "test_norm = x_test['Ozone']\n",
    "test_norm_arr = np.asarray(test_norm)\n",
    "test_norm = np.reshape(test_norm_arr, (-1, 1))\n",
    "scaler = MinMaxScaler(feature_range=(0, 1))\n",
    "test_norm = scaler.fit_transform(test_norm)\n",
    "for i in range(5):\n",
    "    print(test_norm[i])\n",
    "\n",
    "count = 0\n",
    "for i in range(len(test_norm)):\n",
    "    if test_norm[i] == 0:\n",
    "        count = count + 1 \n",
    "print('Number of null values in test_norm = ', count)"
   ]
  },
  {
   "cell_type": "code",
   "execution_count": 20,
   "metadata": {},
   "outputs": [],
   "source": [
    "#removing null values\n",
    "test_norm = test_norm[test_norm != 0]"
   ]
  },
  {
   "cell_type": "code",
   "execution_count": 21,
   "metadata": {},
   "outputs": [
    {
     "name": "stdout",
     "output_type": "stream",
     "text": [
      "(977,)\n",
      "(424,)\n"
     ]
    }
   ],
   "source": [
    "print(train_norm.shape)\n",
    "print(test_norm.shape)"
   ]
  },
  {
   "attachments": {},
   "cell_type": "markdown",
   "metadata": {},
   "source": [
    "Since this is a time series data, we should be predicting the values after looking at a set of values rather than just a single value like we usually do. This takes into account the correlation between the data points and the timestamps. Because the neighbours should be considered for how the values change over time. Let's define a function to do this.\n",
    "\n",
    "The below function called split_sequence splits the sequence into sets of n values. This n is given as n_steps (step_size). For example, if n=3, we split the sequence in groups of 3. We create 2 empty lists and append the split sequences."
   ]
  },
  {
   "cell_type": "code",
   "execution_count": 22,
   "metadata": {},
   "outputs": [],
   "source": [
    "def split_sequence(sequence, n_steps):\n",
    "    X, y = list(), list()\n",
    "    for i in range(len(sequence)):\n",
    "        # find the end of this pattern\n",
    "        end_ix = i + n_steps\n",
    "        # check if we are beyond the sequence\n",
    "        if end_ix > len(sequence)-1:\n",
    "            break\n",
    "        # gather input and output parts of the pattern\n",
    "        seq_x, seq_y = sequence[i:end_ix], sequence[end_ix]\n",
    "        X.append(seq_x)\n",
    "        y.append(seq_y)\n",
    "    return array(X),array(y)"
   ]
  },
  {
   "attachments": {},
   "cell_type": "markdown",
   "metadata": {},
   "source": [
    "Here the number of features = 1 as we will be predicting a single value. Let's reshape the split sequences into the format of number of rows, number of columns. (shape[0], shape[1]). In the output, we can see that groups of 3 since n_steps = 3 have been obtained.\n"
   ]
  },
  {
   "cell_type": "code",
   "execution_count": 23,
   "metadata": {},
   "outputs": [
    {
     "name": "stdout",
     "output_type": "stream",
     "text": [
      "[[[0.37549525]\n",
      "  [0.42997227]\n",
      "  [0.29714739]\n",
      "  ...\n",
      "  [0.28308241]\n",
      "  [0.14996038]\n",
      "  [0.23821315]]\n",
      "\n",
      " [[0.42997227]\n",
      "  [0.29714739]\n",
      "  [0.403229  ]\n",
      "  ...\n",
      "  [0.14996038]\n",
      "  [0.23821315]\n",
      "  [0.20255547]]\n",
      "\n",
      " [[0.29714739]\n",
      "  [0.403229  ]\n",
      "  [0.27327655]\n",
      "  ...\n",
      "  [0.23821315]\n",
      "  [0.20255547]\n",
      "  [0.17224643]]\n",
      "\n",
      " ...\n",
      "\n",
      " [[0.12579239]\n",
      "  [0.15540808]\n",
      "  [0.15897385]\n",
      "  ...\n",
      "  [0.11737322]\n",
      "  [0.08161648]\n",
      "  [0.1026149 ]]\n",
      "\n",
      " [[0.15540808]\n",
      "  [0.15897385]\n",
      "  [0.10528922]\n",
      "  ...\n",
      "  [0.08161648]\n",
      "  [0.1026149 ]\n",
      "  [0.05794374]]\n",
      "\n",
      " [[0.15897385]\n",
      "  [0.10528922]\n",
      "  [0.16174723]\n",
      "  ...\n",
      "  [0.1026149 ]\n",
      "  [0.05794374]\n",
      "  [0.07706022]]]\n",
      "[[[0.37549525]\n",
      "  [0.42997227]\n",
      "  [0.29714739]\n",
      "  ...\n",
      "  [0.28308241]\n",
      "  [0.14996038]\n",
      "  [0.23821315]]\n",
      "\n",
      " [[0.42997227]\n",
      "  [0.29714739]\n",
      "  [0.403229  ]\n",
      "  ...\n",
      "  [0.14996038]\n",
      "  [0.23821315]\n",
      "  [0.20255547]]\n",
      "\n",
      " [[0.29714739]\n",
      "  [0.403229  ]\n",
      "  [0.27327655]\n",
      "  ...\n",
      "  [0.23821315]\n",
      "  [0.20255547]\n",
      "  [0.17224643]]\n",
      "\n",
      " ...\n",
      "\n",
      " [[0.12579239]\n",
      "  [0.15540808]\n",
      "  [0.15897385]\n",
      "  ...\n",
      "  [0.11737322]\n",
      "  [0.08161648]\n",
      "  [0.1026149 ]]\n",
      "\n",
      " [[0.15540808]\n",
      "  [0.15897385]\n",
      "  [0.10528922]\n",
      "  ...\n",
      "  [0.08161648]\n",
      "  [0.1026149 ]\n",
      "  [0.05794374]]\n",
      "\n",
      " [[0.15897385]\n",
      "  [0.10528922]\n",
      "  [0.16174723]\n",
      "  ...\n",
      "  [0.1026149 ]\n",
      "  [0.05794374]\n",
      "  [0.07706022]]]\n",
      "[[[0.37549525]\n",
      "  [0.42997227]\n",
      "  [0.29714739]\n",
      "  ...\n",
      "  [0.28308241]\n",
      "  [0.14996038]\n",
      "  [0.23821315]]\n",
      "\n",
      " [[0.42997227]\n",
      "  [0.29714739]\n",
      "  [0.403229  ]\n",
      "  ...\n",
      "  [0.14996038]\n",
      "  [0.23821315]\n",
      "  [0.20255547]]\n",
      "\n",
      " [[0.29714739]\n",
      "  [0.403229  ]\n",
      "  [0.27327655]\n",
      "  ...\n",
      "  [0.23821315]\n",
      "  [0.20255547]\n",
      "  [0.17224643]]\n",
      "\n",
      " ...\n",
      "\n",
      " [[0.12579239]\n",
      "  [0.15540808]\n",
      "  [0.15897385]\n",
      "  ...\n",
      "  [0.11737322]\n",
      "  [0.08161648]\n",
      "  [0.1026149 ]]\n",
      "\n",
      " [[0.15540808]\n",
      "  [0.15897385]\n",
      "  [0.10528922]\n",
      "  ...\n",
      "  [0.08161648]\n",
      "  [0.1026149 ]\n",
      "  [0.05794374]]\n",
      "\n",
      " [[0.15897385]\n",
      "  [0.10528922]\n",
      "  [0.16174723]\n",
      "  ...\n",
      "  [0.1026149 ]\n",
      "  [0.05794374]\n",
      "  [0.07706022]]]\n",
      "[[[0.37549525]\n",
      "  [0.42997227]\n",
      "  [0.29714739]\n",
      "  ...\n",
      "  [0.28308241]\n",
      "  [0.14996038]\n",
      "  [0.23821315]]\n",
      "\n",
      " [[0.42997227]\n",
      "  [0.29714739]\n",
      "  [0.403229  ]\n",
      "  ...\n",
      "  [0.14996038]\n",
      "  [0.23821315]\n",
      "  [0.20255547]]\n",
      "\n",
      " [[0.29714739]\n",
      "  [0.403229  ]\n",
      "  [0.27327655]\n",
      "  ...\n",
      "  [0.23821315]\n",
      "  [0.20255547]\n",
      "  [0.17224643]]\n",
      "\n",
      " ...\n",
      "\n",
      " [[0.12579239]\n",
      "  [0.15540808]\n",
      "  [0.15897385]\n",
      "  ...\n",
      "  [0.11737322]\n",
      "  [0.08161648]\n",
      "  [0.1026149 ]]\n",
      "\n",
      " [[0.15540808]\n",
      "  [0.15897385]\n",
      "  [0.10528922]\n",
      "  ...\n",
      "  [0.08161648]\n",
      "  [0.1026149 ]\n",
      "  [0.05794374]]\n",
      "\n",
      " [[0.15897385]\n",
      "  [0.10528922]\n",
      "  [0.16174723]\n",
      "  ...\n",
      "  [0.1026149 ]\n",
      "  [0.05794374]\n",
      "  [0.07706022]]]\n",
      "[[[0.37549525]\n",
      "  [0.42997227]\n",
      "  [0.29714739]\n",
      "  ...\n",
      "  [0.28308241]\n",
      "  [0.14996038]\n",
      "  [0.23821315]]\n",
      "\n",
      " [[0.42997227]\n",
      "  [0.29714739]\n",
      "  [0.403229  ]\n",
      "  ...\n",
      "  [0.14996038]\n",
      "  [0.23821315]\n",
      "  [0.20255547]]\n",
      "\n",
      " [[0.29714739]\n",
      "  [0.403229  ]\n",
      "  [0.27327655]\n",
      "  ...\n",
      "  [0.23821315]\n",
      "  [0.20255547]\n",
      "  [0.17224643]]\n",
      "\n",
      " ...\n",
      "\n",
      " [[0.12579239]\n",
      "  [0.15540808]\n",
      "  [0.15897385]\n",
      "  ...\n",
      "  [0.11737322]\n",
      "  [0.08161648]\n",
      "  [0.1026149 ]]\n",
      "\n",
      " [[0.15540808]\n",
      "  [0.15897385]\n",
      "  [0.10528922]\n",
      "  ...\n",
      "  [0.08161648]\n",
      "  [0.1026149 ]\n",
      "  [0.05794374]]\n",
      "\n",
      " [[0.15897385]\n",
      "  [0.10528922]\n",
      "  [0.16174723]\n",
      "  ...\n",
      "  [0.1026149 ]\n",
      "  [0.05794374]\n",
      "  [0.07706022]]]\n"
     ]
    }
   ],
   "source": [
    "n_steps = 15\n",
    "X_split_train, y_split_train = split_sequence(train_norm, n_steps)\n",
    "#for i in range(len(X_split_train)):\n",
    "    #print(X_split_train[i], y_split_train[i])\n",
    "n_features = 1\n",
    "X_split_train = X_split_train.reshape((X_split_train.shape[0], X_split_train.shape[1], n_features))\n",
    "for i in range(5):\n",
    "    print(X_split_train)"
   ]
  },
  {
   "cell_type": "code",
   "execution_count": 24,
   "metadata": {},
   "outputs": [
    {
     "name": "stdout",
     "output_type": "stream",
     "text": [
      "[0.11522673 0.08801909 0.15102625 0.11484487 0.0548926  0.07885442\n",
      " 0.08267303 0.21804296 0.11312649 0.06071599 0.05966587 0.03866348\n",
      " 0.07646778 0.04286396 0.06090692] 0.04668257756563246\n",
      "[0.08801909 0.15102625 0.11484487 0.0548926  0.07885442 0.08267303\n",
      " 0.21804296 0.11312649 0.06071599 0.05966587 0.03866348 0.07646778\n",
      " 0.04286396 0.06090692 0.04668258] 0.07312649164677805\n",
      "[0.15102625 0.11484487 0.0548926  0.07885442 0.08267303 0.21804296\n",
      " 0.11312649 0.06071599 0.05966587 0.03866348 0.07646778 0.04286396\n",
      " 0.06090692 0.04668258 0.07312649] 0.07723150357995227\n",
      "[0.11484487 0.0548926  0.07885442 0.08267303 0.21804296 0.11312649\n",
      " 0.06071599 0.05966587 0.03866348 0.07646778 0.04286396 0.06090692\n",
      " 0.04668258 0.07312649 0.0772315 ] 0.201909307875895\n",
      "[0.0548926  0.07885442 0.08267303 0.21804296 0.11312649 0.06071599\n",
      " 0.05966587 0.03866348 0.07646778 0.04286396 0.06090692 0.04668258\n",
      " 0.07312649 0.0772315  0.20190931] 0.082673031026253\n"
     ]
    }
   ],
   "source": [
    "X_split_test, y_split_test = split_sequence(test_norm, n_steps)\n",
    "for i in range(5):\n",
    "    print(X_split_test[i], y_split_test[i])\n",
    "n_features = 1\n",
    "X_split_test = X_split_test.reshape((X_split_test.shape[0], X_split_test.shape[1], n_features))\n"
   ]
  },
  {
   "cell_type": "code",
   "execution_count": 17,
   "metadata": {},
   "outputs": [
    {
     "name": "stderr",
     "output_type": "stream",
     "text": [
      "c:\\Users\\LENOVO\\AppData\\Local\\Programs\\Python\\Python310\\lib\\site-packages\\keras\\optimizers\\optimizer_v2\\adam.py:110: UserWarning: The `lr` argument is deprecated, use `learning_rate` instead.\n",
      "  super(Adam, self).__init__(name, **kwargs)\n"
     ]
    }
   ],
   "source": [
    "# import the fucntion for Support folder from the same directory\n",
    "from LSTM_Model import build_lstm_model\n",
    "# n_steps = 15\n",
    "# n_features = 1\n",
    "input_shape = (n_steps, n_features)\n",
    "num_lstm_units = 64\n",
    "num_hidden_layers = 2\n",
    "num_units_hidden_layers = 32\n",
    "activation_function = 'tanh'\n",
    "dropout_rate = 0.2\n",
    "\n",
    "model = build_lstm_model(input_shape, num_lstm_units, num_hidden_layers, num_units_hidden_layers, activation_function, dropout_rate)"
   ]
  },
  {
   "cell_type": "code",
   "execution_count": 18,
   "metadata": {},
   "outputs": [
    {
     "name": "stdout",
     "output_type": "stream",
     "text": [
      "Epoch 1/50\n",
      "31/31 [==============================] - 3s 19ms/step - loss: 0.0656 - mae: 0.1948 - val_loss: 0.0225 - val_mae: 0.1281\n",
      "Epoch 2/50\n",
      "31/31 [==============================] - 0s 10ms/step - loss: 0.0241 - mae: 0.1207 - val_loss: 0.0131 - val_mae: 0.0902\n",
      "Epoch 3/50\n",
      "31/31 [==============================] - 0s 10ms/step - loss: 0.0186 - mae: 0.0995 - val_loss: 0.0119 - val_mae: 0.0757\n",
      "Epoch 4/50\n",
      "31/31 [==============================] - 0s 10ms/step - loss: 0.0168 - mae: 0.0956 - val_loss: 0.0106 - val_mae: 0.0719\n",
      "Epoch 5/50\n",
      "31/31 [==============================] - 0s 9ms/step - loss: 0.0155 - mae: 0.0903 - val_loss: 0.0109 - val_mae: 0.0708\n",
      "Epoch 6/50\n",
      "31/31 [==============================] - 0s 9ms/step - loss: 0.0140 - mae: 0.0874 - val_loss: 0.0104 - val_mae: 0.0726\n",
      "Epoch 7/50\n",
      "31/31 [==============================] - 0s 9ms/step - loss: 0.0145 - mae: 0.0865 - val_loss: 0.0103 - val_mae: 0.0686\n",
      "Epoch 8/50\n",
      "31/31 [==============================] - 0s 9ms/step - loss: 0.0151 - mae: 0.0916 - val_loss: 0.0121 - val_mae: 0.0753\n",
      "Epoch 9/50\n",
      "31/31 [==============================] - 0s 9ms/step - loss: 0.0142 - mae: 0.0856 - val_loss: 0.0098 - val_mae: 0.0671\n",
      "Epoch 10/50\n",
      "31/31 [==============================] - 0s 9ms/step - loss: 0.0133 - mae: 0.0845 - val_loss: 0.0098 - val_mae: 0.0661\n",
      "Epoch 11/50\n",
      "31/31 [==============================] - 0s 9ms/step - loss: 0.0137 - mae: 0.0866 - val_loss: 0.0105 - val_mae: 0.0676\n",
      "Epoch 12/50\n",
      "31/31 [==============================] - 0s 9ms/step - loss: 0.0124 - mae: 0.0808 - val_loss: 0.0097 - val_mae: 0.0655\n",
      "Epoch 13/50\n",
      "31/31 [==============================] - 0s 9ms/step - loss: 0.0131 - mae: 0.0829 - val_loss: 0.0098 - val_mae: 0.0672\n",
      "Epoch 14/50\n",
      "31/31 [==============================] - 0s 9ms/step - loss: 0.0132 - mae: 0.0824 - val_loss: 0.0098 - val_mae: 0.0645\n",
      "Epoch 15/50\n",
      "31/31 [==============================] - 0s 9ms/step - loss: 0.0118 - mae: 0.0788 - val_loss: 0.0097 - val_mae: 0.0655\n",
      "Epoch 16/50\n",
      "31/31 [==============================] - 0s 9ms/step - loss: 0.0133 - mae: 0.0842 - val_loss: 0.0098 - val_mae: 0.0656\n",
      "Epoch 17/50\n",
      "31/31 [==============================] - 0s 11ms/step - loss: 0.0116 - mae: 0.0794 - val_loss: 0.0097 - val_mae: 0.0644\n",
      "Epoch 18/50\n",
      "31/31 [==============================] - 0s 12ms/step - loss: 0.0124 - mae: 0.0798 - val_loss: 0.0098 - val_mae: 0.0672\n",
      "Epoch 19/50\n",
      "31/31 [==============================] - 0s 12ms/step - loss: 0.0119 - mae: 0.0799 - val_loss: 0.0095 - val_mae: 0.0626\n",
      "Epoch 20/50\n",
      "31/31 [==============================] - 0s 12ms/step - loss: 0.0116 - mae: 0.0791 - val_loss: 0.0097 - val_mae: 0.0630\n",
      "Epoch 21/50\n",
      "31/31 [==============================] - 0s 10ms/step - loss: 0.0121 - mae: 0.0820 - val_loss: 0.0095 - val_mae: 0.0625\n",
      "Epoch 22/50\n",
      "31/31 [==============================] - 0s 11ms/step - loss: 0.0116 - mae: 0.0765 - val_loss: 0.0096 - val_mae: 0.0640\n",
      "Epoch 23/50\n",
      "31/31 [==============================] - 0s 14ms/step - loss: 0.0121 - mae: 0.0795 - val_loss: 0.0096 - val_mae: 0.0641\n",
      "Epoch 24/50\n",
      "31/31 [==============================] - 0s 12ms/step - loss: 0.0109 - mae: 0.0749 - val_loss: 0.0095 - val_mae: 0.0625\n",
      "Epoch 25/50\n",
      "31/31 [==============================] - 0s 11ms/step - loss: 0.0111 - mae: 0.0763 - val_loss: 0.0097 - val_mae: 0.0660\n",
      "Epoch 26/50\n",
      "31/31 [==============================] - 0s 10ms/step - loss: 0.0111 - mae: 0.0767 - val_loss: 0.0097 - val_mae: 0.0640\n",
      "Epoch 27/50\n",
      "31/31 [==============================] - 0s 13ms/step - loss: 0.0107 - mae: 0.0751 - val_loss: 0.0098 - val_mae: 0.0627\n",
      "Epoch 28/50\n",
      "31/31 [==============================] - 0s 11ms/step - loss: 0.0113 - mae: 0.0759 - val_loss: 0.0096 - val_mae: 0.0622\n",
      "Epoch 29/50\n",
      "31/31 [==============================] - 0s 10ms/step - loss: 0.0106 - mae: 0.0750 - val_loss: 0.0096 - val_mae: 0.0611\n",
      "Epoch 30/50\n",
      "31/31 [==============================] - 0s 9ms/step - loss: 0.0115 - mae: 0.0773 - val_loss: 0.0097 - val_mae: 0.0643\n",
      "Epoch 31/50\n",
      "31/31 [==============================] - 0s 10ms/step - loss: 0.0108 - mae: 0.0757 - val_loss: 0.0096 - val_mae: 0.0609\n",
      "Epoch 32/50\n",
      "31/31 [==============================] - 0s 10ms/step - loss: 0.0108 - mae: 0.0750 - val_loss: 0.0097 - val_mae: 0.0656\n",
      "Epoch 33/50\n",
      "31/31 [==============================] - 0s 10ms/step - loss: 0.0114 - mae: 0.0760 - val_loss: 0.0097 - val_mae: 0.0612\n",
      "Epoch 34/50\n",
      "31/31 [==============================] - 0s 10ms/step - loss: 0.0110 - mae: 0.0751 - val_loss: 0.0097 - val_mae: 0.0619\n",
      "Epoch 35/50\n",
      "31/31 [==============================] - 0s 11ms/step - loss: 0.0119 - mae: 0.0809 - val_loss: 0.0096 - val_mae: 0.0621\n",
      "Epoch 36/50\n",
      "31/31 [==============================] - 0s 9ms/step - loss: 0.0115 - mae: 0.0780 - val_loss: 0.0098 - val_mae: 0.0656\n",
      "Epoch 37/50\n",
      "31/31 [==============================] - 0s 10ms/step - loss: 0.0113 - mae: 0.0760 - val_loss: 0.0100 - val_mae: 0.0627\n",
      "Epoch 38/50\n",
      "31/31 [==============================] - 0s 10ms/step - loss: 0.0109 - mae: 0.0761 - val_loss: 0.0097 - val_mae: 0.0622\n",
      "Epoch 39/50\n",
      "31/31 [==============================] - 0s 12ms/step - loss: 0.0107 - mae: 0.0755 - val_loss: 0.0098 - val_mae: 0.0648\n",
      "Epoch 40/50\n",
      "31/31 [==============================] - 0s 9ms/step - loss: 0.0113 - mae: 0.0785 - val_loss: 0.0097 - val_mae: 0.0628\n",
      "Epoch 41/50\n",
      "31/31 [==============================] - 0s 10ms/step - loss: 0.0107 - mae: 0.0750 - val_loss: 0.0096 - val_mae: 0.0613\n",
      "Epoch 42/50\n",
      "31/31 [==============================] - 0s 10ms/step - loss: 0.0109 - mae: 0.0738 - val_loss: 0.0100 - val_mae: 0.0629\n",
      "Epoch 43/50\n",
      "31/31 [==============================] - 0s 10ms/step - loss: 0.0109 - mae: 0.0754 - val_loss: 0.0100 - val_mae: 0.0660\n",
      "Epoch 44/50\n",
      "31/31 [==============================] - 0s 10ms/step - loss: 0.0100 - mae: 0.0717 - val_loss: 0.0102 - val_mae: 0.0626\n",
      "Epoch 45/50\n",
      "31/31 [==============================] - 0s 10ms/step - loss: 0.0103 - mae: 0.0722 - val_loss: 0.0096 - val_mae: 0.0607\n",
      "Epoch 46/50\n",
      "31/31 [==============================] - 0s 10ms/step - loss: 0.0108 - mae: 0.0747 - val_loss: 0.0098 - val_mae: 0.0642\n",
      "Epoch 47/50\n",
      "31/31 [==============================] - 0s 10ms/step - loss: 0.0107 - mae: 0.0734 - val_loss: 0.0096 - val_mae: 0.0625\n",
      "Epoch 48/50\n",
      "31/31 [==============================] - 0s 9ms/step - loss: 0.0104 - mae: 0.0736 - val_loss: 0.0096 - val_mae: 0.0629\n",
      "Epoch 49/50\n",
      "31/31 [==============================] - 0s 10ms/step - loss: 0.0108 - mae: 0.0742 - val_loss: 0.0095 - val_mae: 0.0624\n",
      "Epoch 50/50\n",
      "31/31 [==============================] - 0s 13ms/step - loss: 0.0111 - mae: 0.0763 - val_loss: 0.0099 - val_mae: 0.0675\n"
     ]
    }
   ],
   "source": [
    "#  fit model\n",
    "hist = model.fit(X_split_train, y_split_train, validation_data=(X_split_test, y_split_test), epochs=50, verbose = 1)\n"
   ]
  },
  {
   "cell_type": "code",
   "execution_count": 19,
   "metadata": {},
   "outputs": [
    {
     "name": "stdout",
     "output_type": "stream",
     "text": [
      "13/13 [==============================] - 0s 3ms/step\n"
     ]
    }
   ],
   "source": [
    "yhat = model.predict(X_split_test)"
   ]
  },
  {
   "cell_type": "code",
   "execution_count": 20,
   "metadata": {},
   "outputs": [
    {
     "name": "stdout",
     "output_type": "stream",
     "text": [
      "MSE: 0.00993\n",
      "RMSE: 0.09965\n",
      "R2: 0.63289\n"
     ]
    }
   ],
   "source": [
    "from math import sqrt\n",
    "from sklearn.metrics import mean_squared_error, r2_score\n",
    "mse = mean_squared_error(y_split_test, yhat)\n",
    "print('MSE: %.5f' % mse)\n",
    "rmse = sqrt(mse)\n",
    "print('RMSE: %.5f' % rmse)\n",
    "r2 = r2_score(y_split_test, yhat)\n",
    "print('R2: %.5f' % r2)"
   ]
  },
  {
   "cell_type": "code",
   "execution_count": 21,
   "metadata": {},
   "outputs": [
    {
     "data": {
      "image/png": "[encoded data removed]",
      "text/plain": [
       "<Figure size 432x288 with 1 Axes>"
      ]
     },
     "metadata": {
      "needs_background": "light"
     },
     "output_type": "display_data"
    }
   ],
   "source": [
    "# summarize history for accuracy\n",
    "plt.plot(hist.history['mae'])\n",
    "plt.plot(hist.history['val_mae'])\n",
    "plt.title('model mae')\n",
    "plt.ylabel('mae')\n",
    "plt.xlabel('epoch')\n",
    "plt.legend(['train', 'test'], loc='upper left')\n",
    "plt.show()"
   ]
  },
  {
   "cell_type": "code",
   "execution_count": 22,
   "metadata": {},
   "outputs": [
    {
     "data": {
      "image/png": "[encoded data removed]",
      "text/plain": [
       "<Figure size 432x288 with 1 Axes>"
      ]
     },
     "metadata": {
      "needs_background": "light"
     },
     "output_type": "display_data"
    }
   ],
   "source": [
    "# Above, accuracy increase a lot in the last few epochs. Below, the loss gradually decrease. These are positive signs that our model is doing very good.\n",
    "\n",
    "# summarize history for loss\n",
    "plt.plot(hist.history['loss'])\n",
    "plt.plot(hist.history['val_loss'])\n",
    "plt.title('model loss')\n",
    "plt.ylabel('loss')\n",
    "plt.xlabel('epoch')\n",
    "plt.legend(['train', 'test'], loc='upper left')\n",
    "plt.show()"
   ]
  },
  {
   "cell_type": "code",
   "execution_count": 23,
   "metadata": {},
   "outputs": [
    {
     "data": {
      "text/plain": [
       "<matplotlib.legend.Legend at 0x1894f67b820>"
      ]
     },
     "execution_count": 23,
     "metadata": {},
     "output_type": "execute_result"
    },
    {
     "data": {
      "image/png": "[encoded data removed]",
      "text/plain": [
       "<Figure size 432x288 with 1 Axes>"
      ]
     },
     "metadata": {
      "needs_background": "light"
     },
     "output_type": "display_data"
    }
   ],
   "source": [
    "# plot yhat and y_split_test\n",
    "plt.plot(y_split_test, label='y_split_test')\n",
    "plt.plot(yhat, label='LSTM yhat')\n",
    "plt.legend()"
   ]
  },
  {
   "attachments": {},
   "cell_type": "markdown",
   "metadata": {},
   "source": [
    "# Bidirectional LSTM"
   ]
  },
  {
   "cell_type": "code",
   "execution_count": 29,
   "metadata": {},
   "outputs": [
    {
     "name": "stdout",
     "output_type": "stream",
     "text": [
      "Epoch 1/50\n"
     ]
    },
    {
     "name": "stderr",
     "output_type": "stream",
     "text": [
      "c:\\Users\\LENOVO\\AppData\\Local\\Programs\\Python\\Python310\\lib\\site-packages\\keras\\optimizers\\optimizer_v2\\adam.py:110: UserWarning: The `lr` argument is deprecated, use `learning_rate` instead.\n",
      "  super(Adam, self).__init__(name, **kwargs)\n"
     ]
    },
    {
     "name": "stdout",
     "output_type": "stream",
     "text": [
      "31/31 [==============================] - 3s 24ms/step - loss: 0.0373 - mae: 0.1453 - val_loss: 0.0129 - val_mae: 0.0826\n",
      "Epoch 2/50\n",
      "31/31 [==============================] - 0s 10ms/step - loss: 0.0150 - mae: 0.0893 - val_loss: 0.0106 - val_mae: 0.0722\n",
      "Epoch 3/50\n",
      "31/31 [==============================] - 0s 10ms/step - loss: 0.0131 - mae: 0.0816 - val_loss: 0.0107 - val_mae: 0.0741\n",
      "Epoch 4/50\n",
      "31/31 [==============================] - 0s 10ms/step - loss: 0.0120 - mae: 0.0787 - val_loss: 0.0103 - val_mae: 0.0713\n",
      "Epoch 5/50\n",
      "31/31 [==============================] - 0s 10ms/step - loss: 0.0113 - mae: 0.0759 - val_loss: 0.0099 - val_mae: 0.0685\n",
      "Epoch 6/50\n",
      "31/31 [==============================] - 0s 10ms/step - loss: 0.0111 - mae: 0.0758 - val_loss: 0.0096 - val_mae: 0.0652\n",
      "Epoch 7/50\n",
      "31/31 [==============================] - 0s 10ms/step - loss: 0.0109 - mae: 0.0747 - val_loss: 0.0097 - val_mae: 0.0658\n",
      "Epoch 8/50\n",
      "31/31 [==============================] - 0s 11ms/step - loss: 0.0108 - mae: 0.0750 - val_loss: 0.0097 - val_mae: 0.0643\n",
      "Epoch 9/50\n",
      "31/31 [==============================] - 0s 13ms/step - loss: 0.0108 - mae: 0.0743 - val_loss: 0.0096 - val_mae: 0.0644\n",
      "Epoch 10/50\n",
      "31/31 [==============================] - 0s 13ms/step - loss: 0.0105 - mae: 0.0733 - val_loss: 0.0096 - val_mae: 0.0636\n",
      "Epoch 11/50\n",
      "31/31 [==============================] - 0s 13ms/step - loss: 0.0106 - mae: 0.0731 - val_loss: 0.0110 - val_mae: 0.0747\n",
      "Epoch 12/50\n",
      "31/31 [==============================] - 0s 15ms/step - loss: 0.0105 - mae: 0.0733 - val_loss: 0.0096 - val_mae: 0.0634\n",
      "Epoch 13/50\n",
      "31/31 [==============================] - 0s 12ms/step - loss: 0.0113 - mae: 0.0775 - val_loss: 0.0100 - val_mae: 0.0692\n",
      "Epoch 14/50\n",
      "31/31 [==============================] - 0s 11ms/step - loss: 0.0102 - mae: 0.0723 - val_loss: 0.0097 - val_mae: 0.0654\n",
      "Epoch 15/50\n",
      "31/31 [==============================] - 0s 12ms/step - loss: 0.0100 - mae: 0.0715 - val_loss: 0.0095 - val_mae: 0.0628\n",
      "Epoch 16/50\n",
      "31/31 [==============================] - 0s 13ms/step - loss: 0.0099 - mae: 0.0708 - val_loss: 0.0097 - val_mae: 0.0647\n",
      "Epoch 17/50\n",
      "31/31 [==============================] - 0s 11ms/step - loss: 0.0099 - mae: 0.0715 - val_loss: 0.0096 - val_mae: 0.0630\n",
      "Epoch 18/50\n",
      "31/31 [==============================] - 0s 15ms/step - loss: 0.0102 - mae: 0.0724 - val_loss: 0.0096 - val_mae: 0.0641\n",
      "Epoch 19/50\n",
      "31/31 [==============================] - 0s 11ms/step - loss: 0.0101 - mae: 0.0712 - val_loss: 0.0101 - val_mae: 0.0675\n",
      "Epoch 20/50\n",
      "31/31 [==============================] - 0s 11ms/step - loss: 0.0099 - mae: 0.0711 - val_loss: 0.0101 - val_mae: 0.0629\n",
      "Epoch 21/50\n",
      "31/31 [==============================] - 0s 11ms/step - loss: 0.0100 - mae: 0.0707 - val_loss: 0.0097 - val_mae: 0.0642\n",
      "Epoch 22/50\n",
      "31/31 [==============================] - 0s 11ms/step - loss: 0.0100 - mae: 0.0717 - val_loss: 0.0102 - val_mae: 0.0683\n",
      "Epoch 23/50\n",
      "31/31 [==============================] - 0s 12ms/step - loss: 0.0100 - mae: 0.0714 - val_loss: 0.0112 - val_mae: 0.0682\n",
      "Epoch 24/50\n",
      "31/31 [==============================] - 1s 18ms/step - loss: 0.0097 - mae: 0.0707 - val_loss: 0.0095 - val_mae: 0.0612\n",
      "Epoch 25/50\n",
      "31/31 [==============================] - 0s 12ms/step - loss: 0.0097 - mae: 0.0703 - val_loss: 0.0097 - val_mae: 0.0628\n",
      "Epoch 26/50\n",
      "31/31 [==============================] - 0s 14ms/step - loss: 0.0099 - mae: 0.0695 - val_loss: 0.0096 - val_mae: 0.0610\n",
      "Epoch 27/50\n",
      "31/31 [==============================] - 0s 16ms/step - loss: 0.0095 - mae: 0.0692 - val_loss: 0.0097 - val_mae: 0.0617\n",
      "Epoch 28/50\n",
      "31/31 [==============================] - 0s 12ms/step - loss: 0.0095 - mae: 0.0691 - val_loss: 0.0098 - val_mae: 0.0637\n",
      "Epoch 29/50\n",
      "31/31 [==============================] - 0s 10ms/step - loss: 0.0096 - mae: 0.0691 - val_loss: 0.0097 - val_mae: 0.0606\n",
      "Epoch 30/50\n",
      "31/31 [==============================] - 0s 10ms/step - loss: 0.0095 - mae: 0.0690 - val_loss: 0.0096 - val_mae: 0.0613\n",
      "Epoch 31/50\n",
      "31/31 [==============================] - 0s 10ms/step - loss: 0.0095 - mae: 0.0702 - val_loss: 0.0097 - val_mae: 0.0607\n",
      "Epoch 32/50\n",
      "31/31 [==============================] - 0s 10ms/step - loss: 0.0096 - mae: 0.0690 - val_loss: 0.0108 - val_mae: 0.0663\n",
      "Epoch 33/50\n",
      "31/31 [==============================] - 0s 10ms/step - loss: 0.0098 - mae: 0.0713 - val_loss: 0.0100 - val_mae: 0.0621\n",
      "Epoch 34/50\n",
      "31/31 [==============================] - 0s 10ms/step - loss: 0.0099 - mae: 0.0710 - val_loss: 0.0096 - val_mae: 0.0605\n",
      "Epoch 35/50\n",
      "31/31 [==============================] - 0s 12ms/step - loss: 0.0095 - mae: 0.0688 - val_loss: 0.0098 - val_mae: 0.0634\n",
      "Epoch 36/50\n",
      "31/31 [==============================] - 0s 12ms/step - loss: 0.0095 - mae: 0.0688 - val_loss: 0.0098 - val_mae: 0.0618\n",
      "Epoch 37/50\n",
      "31/31 [==============================] - 0s 10ms/step - loss: 0.0096 - mae: 0.0694 - val_loss: 0.0096 - val_mae: 0.0606\n",
      "Epoch 38/50\n",
      "31/31 [==============================] - 0s 10ms/step - loss: 0.0094 - mae: 0.0688 - val_loss: 0.0100 - val_mae: 0.0636\n",
      "Epoch 39/50\n",
      "31/31 [==============================] - 0s 13ms/step - loss: 0.0098 - mae: 0.0705 - val_loss: 0.0100 - val_mae: 0.0630\n",
      "Epoch 40/50\n",
      "31/31 [==============================] - 1s 19ms/step - loss: 0.0094 - mae: 0.0690 - val_loss: 0.0098 - val_mae: 0.0608\n",
      "Epoch 41/50\n",
      "31/31 [==============================] - 1s 23ms/step - loss: 0.0093 - mae: 0.0680 - val_loss: 0.0100 - val_mae: 0.0614\n",
      "Epoch 42/50\n",
      "31/31 [==============================] - 1s 17ms/step - loss: 0.0093 - mae: 0.0688 - val_loss: 0.0097 - val_mae: 0.0599\n",
      "Epoch 43/50\n",
      "31/31 [==============================] - 1s 23ms/step - loss: 0.0094 - mae: 0.0687 - val_loss: 0.0097 - val_mae: 0.0606\n",
      "Epoch 44/50\n",
      "31/31 [==============================] - 1s 17ms/step - loss: 0.0093 - mae: 0.0675 - val_loss: 0.0097 - val_mae: 0.0605\n",
      "Epoch 45/50\n",
      "31/31 [==============================] - 0s 15ms/step - loss: 0.0093 - mae: 0.0684 - val_loss: 0.0098 - val_mae: 0.0615\n",
      "Epoch 46/50\n",
      "31/31 [==============================] - 1s 19ms/step - loss: 0.0095 - mae: 0.0688 - val_loss: 0.0097 - val_mae: 0.0617\n",
      "Epoch 47/50\n",
      "31/31 [==============================] - 1s 17ms/step - loss: 0.0093 - mae: 0.0682 - val_loss: 0.0097 - val_mae: 0.0600\n",
      "Epoch 48/50\n",
      "31/31 [==============================] - 0s 16ms/step - loss: 0.0096 - mae: 0.0695 - val_loss: 0.0098 - val_mae: 0.0627\n",
      "Epoch 49/50\n",
      "31/31 [==============================] - 1s 27ms/step - loss: 0.0093 - mae: 0.0685 - val_loss: 0.0107 - val_mae: 0.0645\n",
      "Epoch 50/50\n",
      "31/31 [==============================] - 1s 25ms/step - loss: 0.0094 - mae: 0.0686 - val_loss: 0.0097 - val_mae: 0.0612\n"
     ]
    }
   ],
   "source": [
    "from LSTM_Model import build_bidirectional_lstm_model\n",
    "from keras.optimizers import Adam\n",
    "\n",
    "n_steps = 10\n",
    "n_features = 5\n",
    "input_shape = (n_steps, n_features)\n",
    "num_lstm_units = 64\n",
    "num_dense_units = 50\n",
    "dense_activation_function = 'tanh'\n",
    "optimizer = Adam(lr=0.001)\n",
    "\n",
    "B_model = build_bidirectional_lstm_model(input_shape, num_lstm_units, num_dense_units, dense_activation_function, optimizer)\n",
    "\n",
    "#  fit model\n",
    "hist = B_model.fit(X_split_train, y_split_train, validation_data=(X_split_test, y_split_test), epochs=50, verbose = 1)\n"
   ]
  },
  {
   "cell_type": "code",
   "execution_count": 30,
   "metadata": {},
   "outputs": [
    {
     "name": "stdout",
     "output_type": "stream",
     "text": [
      "13/13 [==============================] - 1s 7ms/step\n",
      "MSE: 0.00965\n",
      "RMSE: 0.09824\n",
      "R2: 0.64320\n"
     ]
    }
   ],
   "source": [
    "B_yhat = B_model.predict(X_split_test)\n",
    "from math import sqrt\n",
    "from sklearn.metrics import mean_squared_error, r2_score\n",
    "mse = mean_squared_error(y_split_test, B_yhat)\n",
    "print('MSE: %.5f' % mse)\n",
    "rmse = sqrt(mse)\n",
    "print('RMSE: %.5f' % rmse)\n",
    "# R2 score\n",
    "r2 = r2_score(y_split_test, B_yhat)\n",
    "print('R2: %.5f' % r2)"
   ]
  },
  {
   "cell_type": "markdown",
   "metadata": {},
   "source": []
  },
  {
   "cell_type": "code",
   "execution_count": 31,
   "metadata": {},
   "outputs": [
    {
     "data": {
      "text/plain": [
       "<matplotlib.legend.Legend at 0x189509e0d90>"
      ]
     },
     "execution_count": 31,
     "metadata": {},
     "output_type": "execute_result"
    },
    {
     "data": {
      "image/png": "[encoded data removed]",
      "text/plain": [
       "<Figure size 432x288 with 1 Axes>"
      ]
     },
     "metadata": {
      "needs_background": "light"
     },
     "output_type": "display_data"
    }
   ],
   "source": [
    "# plot yhat and y_split_test\n",
    "plt.plot(y_split_test, label='y_split_test')\n",
    "plt.plot(B_yhat, label='Bidirectional yhat')\n",
    "plt.legend()"
   ]
  },
  {
   "attachments": {},
   "cell_type": "markdown",
   "metadata": {},
   "source": [
    "# Multiple Layer Regression (MLR)"
   ]
  },
  {
   "cell_type": "code",
   "execution_count": 25,
   "metadata": {},
   "outputs": [
    {
     "ename": "ValueError",
     "evalue": "Found array with dim 3. LinearRegression expected <= 2.",
     "output_type": "error",
     "traceback": [
      "\u001b[1;31m---------------------------------------------------------------------------\u001b[0m",
      "\u001b[1;31mValueError\u001b[0m                                Traceback (most recent call last)",
      "\u001b[1;32mf:\\IMP DOCUMENT\\College material\\SEM6\\AIProject\\Ozone-Prediction-AIProject\\Alipur_LSTMModelTraining.ipynb Cell 31\u001b[0m in \u001b[0;36m<cell line: 21>\u001b[1;34m()\u001b[0m\n\u001b[0;32m     <a href='vscode-notebook-cell:/f%3A/IMP%20DOCUMENT/College%20material/SEM6/AIProject/Ozone-Prediction-AIProject/Alipur_LSTMModelTraining.ipynb#X41sZmlsZQ%3D%3D?line=17'>18</a>\u001b[0m     \u001b[39mreturn\u001b[39;00m model, yhat\n\u001b[0;32m     <a href='vscode-notebook-cell:/f%3A/IMP%20DOCUMENT/College%20material/SEM6/AIProject/Ozone-Prediction-AIProject/Alipur_LSTMModelTraining.ipynb#X41sZmlsZQ%3D%3D?line=19'>20</a>\u001b[0m \u001b[39m# build the MLR model\u001b[39;00m\n\u001b[1;32m---> <a href='vscode-notebook-cell:/f%3A/IMP%20DOCUMENT/College%20material/SEM6/AIProject/Ozone-Prediction-AIProject/Alipur_LSTMModelTraining.ipynb#X41sZmlsZQ%3D%3D?line=20'>21</a>\u001b[0m mlr_model, mlr_yhat \u001b[39m=\u001b[39m build_mlr_model(X_split_train, y_split_train, X_split_test, y_split_test)\n\u001b[0;32m     <a href='vscode-notebook-cell:/f%3A/IMP%20DOCUMENT/College%20material/SEM6/AIProject/Ozone-Prediction-AIProject/Alipur_LSTMModelTraining.ipynb#X41sZmlsZQ%3D%3D?line=22'>23</a>\u001b[0m \u001b[39m# plot yhat and y_split_test\u001b[39;00m\n\u001b[0;32m     <a href='vscode-notebook-cell:/f%3A/IMP%20DOCUMENT/College%20material/SEM6/AIProject/Ozone-Prediction-AIProject/Alipur_LSTMModelTraining.ipynb#X41sZmlsZQ%3D%3D?line=23'>24</a>\u001b[0m plt\u001b[39m.\u001b[39mplot(y_split_test, label\u001b[39m=\u001b[39m\u001b[39m'\u001b[39m\u001b[39my_split_test\u001b[39m\u001b[39m'\u001b[39m)\n",
      "\u001b[1;32mf:\\IMP DOCUMENT\\College material\\SEM6\\AIProject\\Ozone-Prediction-AIProject\\Alipur_LSTMModelTraining.ipynb Cell 31\u001b[0m in \u001b[0;36mbuild_mlr_model\u001b[1;34m(X_train, y_train, X_test, y_test)\u001b[0m\n\u001b[0;32m      <a href='vscode-notebook-cell:/f%3A/IMP%20DOCUMENT/College%20material/SEM6/AIProject/Ozone-Prediction-AIProject/Alipur_LSTMModelTraining.ipynb#X41sZmlsZQ%3D%3D?line=6'>7</a>\u001b[0m \u001b[39mdef\u001b[39;00m \u001b[39mbuild_mlr_model\u001b[39m(X_train, y_train, X_test, y_test):\n\u001b[0;32m      <a href='vscode-notebook-cell:/f%3A/IMP%20DOCUMENT/College%20material/SEM6/AIProject/Ozone-Prediction-AIProject/Alipur_LSTMModelTraining.ipynb#X41sZmlsZQ%3D%3D?line=7'>8</a>\u001b[0m     model \u001b[39m=\u001b[39m LinearRegression()\n\u001b[1;32m----> <a href='vscode-notebook-cell:/f%3A/IMP%20DOCUMENT/College%20material/SEM6/AIProject/Ozone-Prediction-AIProject/Alipur_LSTMModelTraining.ipynb#X41sZmlsZQ%3D%3D?line=8'>9</a>\u001b[0m     model\u001b[39m.\u001b[39;49mfit(X_train, y_train)\n\u001b[0;32m     <a href='vscode-notebook-cell:/f%3A/IMP%20DOCUMENT/College%20material/SEM6/AIProject/Ozone-Prediction-AIProject/Alipur_LSTMModelTraining.ipynb#X41sZmlsZQ%3D%3D?line=9'>10</a>\u001b[0m     yhat \u001b[39m=\u001b[39m model\u001b[39m.\u001b[39mpredict(X_test)\n\u001b[0;32m     <a href='vscode-notebook-cell:/f%3A/IMP%20DOCUMENT/College%20material/SEM6/AIProject/Ozone-Prediction-AIProject/Alipur_LSTMModelTraining.ipynb#X41sZmlsZQ%3D%3D?line=10'>11</a>\u001b[0m     mse \u001b[39m=\u001b[39m mean_squared_error(y_test, yhat)\n",
      "File \u001b[1;32mc:\\Users\\LENOVO\\AppData\\Local\\Programs\\Python\\Python310\\lib\\site-packages\\sklearn\\linear_model\\_base.py:684\u001b[0m, in \u001b[0;36mLinearRegression.fit\u001b[1;34m(self, X, y, sample_weight)\u001b[0m\n\u001b[0;32m    680\u001b[0m n_jobs_ \u001b[39m=\u001b[39m \u001b[39mself\u001b[39m\u001b[39m.\u001b[39mn_jobs\n\u001b[0;32m    682\u001b[0m accept_sparse \u001b[39m=\u001b[39m \u001b[39mFalse\u001b[39;00m \u001b[39mif\u001b[39;00m \u001b[39mself\u001b[39m\u001b[39m.\u001b[39mpositive \u001b[39melse\u001b[39;00m [\u001b[39m\"\u001b[39m\u001b[39mcsr\u001b[39m\u001b[39m\"\u001b[39m, \u001b[39m\"\u001b[39m\u001b[39mcsc\u001b[39m\u001b[39m\"\u001b[39m, \u001b[39m\"\u001b[39m\u001b[39mcoo\u001b[39m\u001b[39m\"\u001b[39m]\n\u001b[1;32m--> 684\u001b[0m X, y \u001b[39m=\u001b[39m \u001b[39mself\u001b[39;49m\u001b[39m.\u001b[39;49m_validate_data(\n\u001b[0;32m    685\u001b[0m     X, y, accept_sparse\u001b[39m=\u001b[39;49maccept_sparse, y_numeric\u001b[39m=\u001b[39;49m\u001b[39mTrue\u001b[39;49;00m, multi_output\u001b[39m=\u001b[39;49m\u001b[39mTrue\u001b[39;49;00m\n\u001b[0;32m    686\u001b[0m )\n\u001b[0;32m    688\u001b[0m sample_weight \u001b[39m=\u001b[39m _check_sample_weight(\n\u001b[0;32m    689\u001b[0m     sample_weight, X, dtype\u001b[39m=\u001b[39mX\u001b[39m.\u001b[39mdtype, only_non_negative\u001b[39m=\u001b[39m\u001b[39mTrue\u001b[39;00m\n\u001b[0;32m    690\u001b[0m )\n\u001b[0;32m    692\u001b[0m X, y, X_offset, y_offset, X_scale \u001b[39m=\u001b[39m _preprocess_data(\n\u001b[0;32m    693\u001b[0m     X,\n\u001b[0;32m    694\u001b[0m     y,\n\u001b[1;32m   (...)\u001b[0m\n\u001b[0;32m    698\u001b[0m     sample_weight\u001b[39m=\u001b[39msample_weight,\n\u001b[0;32m    699\u001b[0m )\n",
      "File \u001b[1;32mc:\\Users\\LENOVO\\AppData\\Local\\Programs\\Python\\Python310\\lib\\site-packages\\sklearn\\base.py:596\u001b[0m, in \u001b[0;36mBaseEstimator._validate_data\u001b[1;34m(self, X, y, reset, validate_separately, **check_params)\u001b[0m\n\u001b[0;32m    594\u001b[0m         y \u001b[39m=\u001b[39m check_array(y, input_name\u001b[39m=\u001b[39m\u001b[39m\"\u001b[39m\u001b[39my\u001b[39m\u001b[39m\"\u001b[39m, \u001b[39m*\u001b[39m\u001b[39m*\u001b[39mcheck_y_params)\n\u001b[0;32m    595\u001b[0m     \u001b[39melse\u001b[39;00m:\n\u001b[1;32m--> 596\u001b[0m         X, y \u001b[39m=\u001b[39m check_X_y(X, y, \u001b[39m*\u001b[39m\u001b[39m*\u001b[39mcheck_params)\n\u001b[0;32m    597\u001b[0m     out \u001b[39m=\u001b[39m X, y\n\u001b[0;32m    599\u001b[0m \u001b[39mif\u001b[39;00m \u001b[39mnot\u001b[39;00m no_val_X \u001b[39mand\u001b[39;00m check_params\u001b[39m.\u001b[39mget(\u001b[39m\"\u001b[39m\u001b[39mensure_2d\u001b[39m\u001b[39m\"\u001b[39m, \u001b[39mTrue\u001b[39;00m):\n",
      "File \u001b[1;32mc:\\Users\\LENOVO\\AppData\\Local\\Programs\\Python\\Python310\\lib\\site-packages\\sklearn\\utils\\validation.py:1074\u001b[0m, in \u001b[0;36mcheck_X_y\u001b[1;34m(X, y, accept_sparse, accept_large_sparse, dtype, order, copy, force_all_finite, ensure_2d, allow_nd, multi_output, ensure_min_samples, ensure_min_features, y_numeric, estimator)\u001b[0m\n\u001b[0;32m   1069\u001b[0m         estimator_name \u001b[39m=\u001b[39m _check_estimator_name(estimator)\n\u001b[0;32m   1070\u001b[0m     \u001b[39mraise\u001b[39;00m \u001b[39mValueError\u001b[39;00m(\n\u001b[0;32m   1071\u001b[0m         \u001b[39mf\u001b[39m\u001b[39m\"\u001b[39m\u001b[39m{\u001b[39;00mestimator_name\u001b[39m}\u001b[39;00m\u001b[39m requires y to be passed, but the target y is None\u001b[39m\u001b[39m\"\u001b[39m\n\u001b[0;32m   1072\u001b[0m     )\n\u001b[1;32m-> 1074\u001b[0m X \u001b[39m=\u001b[39m check_array(\n\u001b[0;32m   1075\u001b[0m     X,\n\u001b[0;32m   1076\u001b[0m     accept_sparse\u001b[39m=\u001b[39;49maccept_sparse,\n\u001b[0;32m   1077\u001b[0m     accept_large_sparse\u001b[39m=\u001b[39;49maccept_large_sparse,\n\u001b[0;32m   1078\u001b[0m     dtype\u001b[39m=\u001b[39;49mdtype,\n\u001b[0;32m   1079\u001b[0m     order\u001b[39m=\u001b[39;49morder,\n\u001b[0;32m   1080\u001b[0m     copy\u001b[39m=\u001b[39;49mcopy,\n\u001b[0;32m   1081\u001b[0m     force_all_finite\u001b[39m=\u001b[39;49mforce_all_finite,\n\u001b[0;32m   1082\u001b[0m     ensure_2d\u001b[39m=\u001b[39;49mensure_2d,\n\u001b[0;32m   1083\u001b[0m     allow_nd\u001b[39m=\u001b[39;49mallow_nd,\n\u001b[0;32m   1084\u001b[0m     ensure_min_samples\u001b[39m=\u001b[39;49mensure_min_samples,\n\u001b[0;32m   1085\u001b[0m     ensure_min_features\u001b[39m=\u001b[39;49mensure_min_features,\n\u001b[0;32m   1086\u001b[0m     estimator\u001b[39m=\u001b[39;49mestimator,\n\u001b[0;32m   1087\u001b[0m     input_name\u001b[39m=\u001b[39;49m\u001b[39m\"\u001b[39;49m\u001b[39mX\u001b[39;49m\u001b[39m\"\u001b[39;49m,\n\u001b[0;32m   1088\u001b[0m )\n\u001b[0;32m   1090\u001b[0m y \u001b[39m=\u001b[39m _check_y(y, multi_output\u001b[39m=\u001b[39mmulti_output, y_numeric\u001b[39m=\u001b[39my_numeric, estimator\u001b[39m=\u001b[39mestimator)\n\u001b[0;32m   1092\u001b[0m check_consistent_length(X, y)\n",
      "File \u001b[1;32mc:\\Users\\LENOVO\\AppData\\Local\\Programs\\Python\\Python310\\lib\\site-packages\\sklearn\\utils\\validation.py:893\u001b[0m, in \u001b[0;36mcheck_array\u001b[1;34m(array, accept_sparse, accept_large_sparse, dtype, order, copy, force_all_finite, ensure_2d, allow_nd, ensure_min_samples, ensure_min_features, estimator, input_name)\u001b[0m\n\u001b[0;32m    887\u001b[0m     \u001b[39mraise\u001b[39;00m \u001b[39mValueError\u001b[39;00m(\n\u001b[0;32m    888\u001b[0m         \u001b[39m\"\u001b[39m\u001b[39mdtype=\u001b[39m\u001b[39m'\u001b[39m\u001b[39mnumeric\u001b[39m\u001b[39m'\u001b[39m\u001b[39m is not compatible with arrays of bytes/strings.\u001b[39m\u001b[39m\"\u001b[39m\n\u001b[0;32m    889\u001b[0m         \u001b[39m\"\u001b[39m\u001b[39mConvert your data to numeric values explicitly instead.\u001b[39m\u001b[39m\"\u001b[39m\n\u001b[0;32m    890\u001b[0m     )\n\u001b[0;32m    892\u001b[0m \u001b[39mif\u001b[39;00m \u001b[39mnot\u001b[39;00m allow_nd \u001b[39mand\u001b[39;00m array\u001b[39m.\u001b[39mndim \u001b[39m>\u001b[39m\u001b[39m=\u001b[39m \u001b[39m3\u001b[39m:\n\u001b[1;32m--> 893\u001b[0m     \u001b[39mraise\u001b[39;00m \u001b[39mValueError\u001b[39;00m(\n\u001b[0;32m    894\u001b[0m         \u001b[39m\"\u001b[39m\u001b[39mFound array with dim \u001b[39m\u001b[39m%d\u001b[39;00m\u001b[39m. \u001b[39m\u001b[39m%s\u001b[39;00m\u001b[39m expected <= 2.\u001b[39m\u001b[39m\"\u001b[39m\n\u001b[0;32m    895\u001b[0m         \u001b[39m%\u001b[39m (array\u001b[39m.\u001b[39mndim, estimator_name)\n\u001b[0;32m    896\u001b[0m     )\n\u001b[0;32m    898\u001b[0m \u001b[39mif\u001b[39;00m force_all_finite:\n\u001b[0;32m    899\u001b[0m     _assert_all_finite(\n\u001b[0;32m    900\u001b[0m         array,\n\u001b[0;32m    901\u001b[0m         input_name\u001b[39m=\u001b[39minput_name,\n\u001b[0;32m    902\u001b[0m         estimator_name\u001b[39m=\u001b[39mestimator_name,\n\u001b[0;32m    903\u001b[0m         allow_nan\u001b[39m=\u001b[39mforce_all_finite \u001b[39m==\u001b[39m \u001b[39m\"\u001b[39m\u001b[39mallow-nan\u001b[39m\u001b[39m\"\u001b[39m,\n\u001b[0;32m    904\u001b[0m     )\n",
      "\u001b[1;31mValueError\u001b[0m: Found array with dim 3. LinearRegression expected <= 2."
     ]
    }
   ],
   "source": [
    "# write the function for the MLR model\n",
    "\n",
    "from sklearn.linear_model import LinearRegression\n",
    "from sklearn.metrics import mean_squared_error, r2_score\n",
    "from math import sqrt\n",
    "\n",
    "def build_mlr_model(X_train, y_train, X_test, y_test):\n",
    "    model = LinearRegression()\n",
    "    model.fit(X_train, y_train)\n",
    "    yhat = model.predict(X_test)\n",
    "    mse = mean_squared_error(y_test, yhat)\n",
    "    print('MSE: %.5f' % mse)\n",
    "    rmse = sqrt(mse)\n",
    "    print('RMSE: %.5f' % rmse)\n",
    "    # R2 score\n",
    "    r2 = r2_score(y_test, yhat)\n",
    "    print('R2: %.5f' % r2)\n",
    "    return model, yhat\n",
    "\n",
    "# build the MLR model\n",
    "mlr_model, mlr_yhat = build_mlr_model(X train, y_train, X_split_test, y_split_test)\n",
    "\n",
    "# plot yhat and y_split_test\n",
    "plt.plot(y_split_test, label='y_split_test')\n",
    "plt.plot(mlr_yhat, label='MLR yhat')\n",
    "plt.legend()\n"
   ]
  },
  {
   "cell_type": "code",
   "execution_count": null,
   "metadata": {},
   "outputs": [],
   "source": []
  }
 ],
 "metadata": {
  "kernelspec": {
   "display_name": "Python 3",
   "language": "python",
   "name": "python3"
  },
  "language_info": {
   "codemirror_mode": {
    "name": "ipython",
    "version": 3
   },
   "file_extension": ".py",
   "mimetype": "text/x-python",
   "name": "python",
   "nbconvert_exporter": "python",
   "pygments_lexer": "ipython3",
   "version": "3.10.9"
  },
  "orig_nbformat": 4
 },
 "nbformat": 4,
 "nbformat_minor": 2
}
